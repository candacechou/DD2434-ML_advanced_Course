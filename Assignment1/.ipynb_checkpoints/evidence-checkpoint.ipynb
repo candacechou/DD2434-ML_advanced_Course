{
 "cells": [
  {
   "cell_type": "code",
   "execution_count": 109,
   "metadata": {},
   "outputs": [],
   "source": [
    "import itertools as it\n",
    "#from math import exp,sqrt,pi\n",
    "import scipy.stats\n",
    "import numpy as np\n",
    "import matplotlib.pyplot as plt"
   ]
  },
  {
   "cell_type": "code",
   "execution_count": 69,
   "metadata": {},
   "outputs": [],
   "source": [
    "dataset = generate_dataset()\n"
   ]
  },
  {
   "cell_type": "code",
   "execution_count": 40,
   "metadata": {},
   "outputs": [],
   "source": [
    "### generate dataset and visualize it\n",
    "def generate_dataset():\n",
    "    Y = list(it.product([-1,1],repeat = 9))\n",
    "    dataset = []\n",
    "    for subdata in Y:\n",
    "        sub = np.asarray(subdata)\n",
    "        sub = np.reshape(sub,(3,3))\n",
    "        dataset.append(sub)\n",
    "    return dataset\n",
    "def visualize_data(data):\n",
    "    print('-----')\n",
    "    for i in range(data.shape[0]):\n",
    "        line = '|'\n",
    "        for j in range(data.shape[1]):\n",
    "            if data[i][j] == -1 :\n",
    "                line = line + 'x'\n",
    "            else :\n",
    "                line = line + 'o'\n",
    "        line = line +'|'\n",
    "        print(line)\n",
    "        "
   ]
  },
  {
   "cell_type": "code",
   "execution_count": 101,
   "metadata": {},
   "outputs": [],
   "source": [
    "### create model for evidence\n",
    "def M0(theta,data):\n",
    "        \n",
    "    return 1/512\n",
    "\n",
    "def M1(theta,data):\n",
    "    ## data is just one grid\n",
    "    p = 1\n",
    "    axis = [-1,0,1]\n",
    "    for i in range(data.shape[0]):\n",
    "        for j in range(data.shape[1]):\n",
    "            prob = 1 / (1+ np.exp(- data[i][j]*theta*axis[j]))\n",
    "            p = p * prob\n",
    "    return p\n",
    "\n",
    "def M2(theta,data):\n",
    "    p = 1\n",
    "    axis = [-1,0,1]\n",
    "    for i in range(data.shape[0]):\n",
    "        for j in range(data.shape[1]):\n",
    "            prob = 1 / (1+ np.exp(-data[i][j]*(theta[0]*axis[i]+ theta[1]*axis[j])))\n",
    "            p = p * prob\n",
    "    return p\n",
    "                        \n",
    "def M3(theta,data):\n",
    "    p = 1\n",
    "    axis = [-1,0,1]\n",
    "    for i in range(data.shape[0]):\n",
    "        for j in range(data.shape[1]):\n",
    "            prob = 1 / (1+ np.exp(-data[i][j]*(theta[0]*axis[i]+ theta[1]*axis[j] + theta[2])))\n",
    "            p = p * prob\n",
    "    return p\n",
    "        \n"
   ]
  },
  {
   "cell_type": "code",
   "execution_count": 123,
   "metadata": {},
   "outputs": [],
   "source": [
    "### generate theta\n",
    "def generate_parameter(model,sigma,mu,num_sample):\n",
    "    if model is 'M1':\n",
    "        Sigma = sigma\n",
    "        Mu = mu\n",
    "        theta = np.random.normal(Mu, Sigma, num_sample)\n",
    "        return theta\n",
    "    elif model is 'M2':\n",
    "        Sigma = np.eye(2)*sigma\n",
    "        Mu = np.zeros(2)\n",
    "        theta = np.random.multivariate_normal(Mu, Sigma, num_sample)\n",
    "        return theta\n",
    "    elif model is 'M3':\n",
    "        Sigma = np.eye(3) * sigma\n",
    "        Mu = np.zeros(3)\n",
    "        theta = np.random.multivariate_normal(Mu, Sigma, num_sample)\n",
    "        return theta\n",
    "    elif model is 'M0':\n",
    "        return 0\n",
    "    else :\n",
    "        print('No such model!')\n",
    "        return "
   ]
  },
  {
   "cell_type": "code",
   "execution_count": 124,
   "metadata": {},
   "outputs": [],
   "source": [
    "def compute_evidence(model,data,num_sample,theta):\n",
    "    #theta = generate_parameter(model,sigma,mean,num_sample)\n",
    "    evidence = 0\n",
    "    for i in range(num_sample): \n",
    "        if model == 'M0':\n",
    "            p = M0(theta,data)\n",
    "            \n",
    "        elif model == 'M1':\n",
    "            p = M1(theta[i],data)\n",
    "            \n",
    "        elif model == 'M2':\n",
    "            p = M2(theta[i,:],data)\n",
    "        elif model == 'M3':\n",
    "            p = M3(theta[i,:],data)\n",
    "        else :\n",
    "            print('No such model!')\n",
    "        evidence = evidence + p\n",
    "    return evidence / num_sample"
   ]
  },
  {
   "cell_type": "code",
   "execution_count": 125,
   "metadata": {},
   "outputs": [],
   "source": [
    "sigma = 1000\n",
    "mu = 0\n",
    "\n",
    "evidence = np.zeros((4,512))\n",
    "models = ['M0','M1','M2','M3']\n",
    "num_sample = 1000\n",
    "theta_M0 = generate_parameter(models[0],sigma,mu,num_sample)\n",
    "theta_M1 = generate_parameter(models[1],sigma,mu,num_sample)\n",
    "theta_M2 = generate_parameter(models[2],sigma,mu,num_sample)\n",
    "theta_M3 = generate_parameter(models[3],sigma,mu,num_sample)\n",
    "theta = [theta_M0,theta_M1,theta_M2,theta_M3]\n",
    "for i in range(4) :\n",
    "    for j in range(512):\n",
    "        evidence[i][j] = compute_evidence(models[i],dataset[j],num_sample,theta[i])\n",
    "        \n"
   ]
  },
  {
   "cell_type": "code",
   "execution_count": 143,
   "metadata": {},
   "outputs": [
    {
     "ename": "NameError",
     "evalue": "name 'Plt' is not defined",
     "output_type": "error",
     "traceback": [
      "\u001b[0;31m---------------------------------------------------------------------------\u001b[0m",
      "\u001b[0;31mNameError\u001b[0m                                 Traceback (most recent call last)",
      "\u001b[0;32m<ipython-input-143-2008e2c0fcc5>\u001b[0m in \u001b[0;36m<module>\u001b[0;34m\u001b[0m\n\u001b[1;32m      6\u001b[0m \u001b[0mplt\u001b[0m\u001b[0;34m.\u001b[0m\u001b[0mplot\u001b[0m\u001b[0;34m(\u001b[0m\u001b[0mevidence\u001b[0m\u001b[0;34m[\u001b[0m\u001b[0;36m3\u001b[0m\u001b[0;34m,\u001b[0m\u001b[0mL\u001b[0m\u001b[0;34m]\u001b[0m\u001b[0;34m,\u001b[0m\u001b[0mlabel\u001b[0m \u001b[0;34m=\u001b[0m \u001b[0;34m'P(D|M3)'\u001b[0m\u001b[0;34m)\u001b[0m\u001b[0;34m\u001b[0m\u001b[0;34m\u001b[0m\u001b[0m\n\u001b[1;32m      7\u001b[0m \u001b[0mplt\u001b[0m\u001b[0;34m.\u001b[0m\u001b[0mlegend\u001b[0m\u001b[0;34m(\u001b[0m\u001b[0;34m)\u001b[0m\u001b[0;34m\u001b[0m\u001b[0;34m\u001b[0m\u001b[0m\n\u001b[0;32m----> 8\u001b[0;31m \u001b[0mPlt\u001b[0m\u001b[0;34m.\u001b[0m\u001b[0mxlabel\u001b[0m\u001b[0;34m(\u001b[0m\u001b[0;34m'All dataset D'\u001b[0m\u001b[0;34m)\u001b[0m\u001b[0;34m\u001b[0m\u001b[0;34m\u001b[0m\u001b[0m\n\u001b[0m\u001b[1;32m      9\u001b[0m \u001b[0mplt\u001b[0m\u001b[0;34m.\u001b[0m\u001b[0mylabel\u001b[0m\u001b[0;34m(\u001b[0m\u001b[0;34m'Evidence'\u001b[0m\u001b[0;34m)\u001b[0m\u001b[0;34m\u001b[0m\u001b[0;34m\u001b[0m\u001b[0m\n\u001b[1;32m     10\u001b[0m \u001b[0mplt\u001b[0m\u001b[0;34m.\u001b[0m\u001b[0mshow\u001b[0m\u001b[0;34m(\u001b[0m\u001b[0;34m)\u001b[0m\u001b[0;34m\u001b[0m\u001b[0;34m\u001b[0m\u001b[0m\n",
      "\u001b[0;31mNameError\u001b[0m: name 'Plt' is not defined"
     ]
    },
    {
     "data": {
      "image/png": "[encoded data removed]",
      "text/plain": [
       "<Figure size 432x288 with 1 Axes>"
      ]
     },
     "metadata": {
      "needs_background": "light"
     },
     "output_type": "display_data"
    }
   ],
   "source": [
    "L = order_set(evidence)\n",
    "plt.figure()\n",
    "plt.plot(evidence[0,L],label = 'P(D|M0)')\n",
    "plt.plot(evidence[1,L],label = 'P(D|M1)')\n",
    "plt.plot(evidence[2,L],label = 'P(D|M2)')\n",
    "plt.plot(evidence[3,L],label = 'P(D|M3)')\n",
    "plt.legend()\n",
    "plt.xlabel('All dataset D')\n",
    "plt.ylabel('Evidence')\n",
    "plt.show()\n",
    "#print(evidence[0,:])"
   ]
  },
  {
   "cell_type": "code",
   "execution_count": 142,
   "metadata": {},
   "outputs": [
    {
     "data": {
      "image/png": "[encoded data removed]",
      "text/plain": [
       "<Figure size 432x288 with 1 Axes>"
      ]
     },
     "metadata": {
      "needs_background": "light"
     },
     "output_type": "display_data"
    }
   ],
   "source": [
    "plt.figure()\n",
    "plt.plot(evidence[0,L[0:100]],label = 'P(D|M0)')\n",
    "plt.plot(evidence[1,L[0:100]],label = 'P(D|M1)')\n",
    "plt.plot(evidence[2,L[0:100]],label = 'P(D|M2)')\n",
    "plt.plot(evidence[3,L[0:100]],label = 'P(D|M3)')\n",
    "plt.legend()\n",
    "plt.xlabel('All dataset D')\n",
    "plt.ylabel('Evidence')\n",
    "plt.show()"
   ]
  },
  {
   "cell_type": "code",
   "execution_count": 135,
   "metadata": {},
   "outputs": [],
   "source": [
    "def order_set(evidence):\n",
    "    evidence = np.sum(evidence,axis=0)\n",
    "    \n",
    "    \n",
    "    dist = np.zeros([evidence.shape[0],evidence.shape[0]])\n",
    "    for i in range(dist.shape[0]):\n",
    "        for j in range(dist.shape[1]):\n",
    "            dist[i,j] = evidence[i] - evidence[j]\n",
    "            if i == j:\n",
    "                dist[i,j] = pow(10,4)\n",
    "\n",
    "    L = [];\n",
    "    D = np.arange(evidence.shape[0]).tolist()\n",
    "    ind = evidence.argmin()\n",
    "    L.append(ind)\n",
    "    D.remove(ind)\n",
    "    while D:\n",
    "        N = []\n",
    "        for i in range(len(D)):\n",
    "            ind = dist[D[i],D].argmin()\n",
    "            if D[ind]==L[-1]:\n",
    "                N.append(D[ind])\n",
    "        if not N:\n",
    "            L.append(D[dist[L[-1],D].argmin()])\n",
    "        else:\n",
    "            L.append(N[dist[L[-1],N].argmin()])\n",
    "        D.remove(L[-1])\n",
    "    return L"
   ]
  },
  {
   "cell_type": "code",
   "execution_count": null,
   "metadata": {},
   "outputs": [],
   "source": []
  }
 ],
 "metadata": {
  "kernelspec": {
   "display_name": "Python 3",
   "language": "python",
   "name": "python3"
  },
  "language_info": {
   "codemirror_mode": {
    "name": "ipython",
    "version": 3
   },
   "file_extension": ".py",
   "mimetype": "text/x-python",
   "name": "python",
   "nbconvert_exporter": "python",
   "pygments_lexer": "ipython3",
   "version": "3.7.3"
  }
 },
 "nbformat": 4,
 "nbformat_minor": 2
}
